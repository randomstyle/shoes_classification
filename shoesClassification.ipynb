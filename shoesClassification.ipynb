{
 "cells": [
  {
   "cell_type": "markdown",
   "metadata": {},
   "source": [
    "## Transfer Learning using MNIST data\n",
    "To illustrate the power and concept of transfer learning, we will train a CNN on just the digits 5,6,7,8,9.  Then we will train just the last layer(s) of the network on the digits 0,1,2,3,4 and see how well the features learned on 5-9 help with classifying 0-4.\n",
    "\n",
    "Adapted from https://github.com/fchollet/keras/blob/master/examples/mnist_transfer_cnn.py"
   ]
  },
  {
   "cell_type": "code",
   "execution_count": 1,
   "metadata": {},
   "outputs": [
    {
     "name": "stderr",
     "output_type": "stream",
     "text": [
      "Using TensorFlow backend.\n",
      "/home/u6975/.conda/envs/tensorflow-36/lib/python3.6/site-packages/sklearn/cross_validation.py:41: DeprecationWarning: This module was deprecated in version 0.18 in favor of the model_selection module into which all the refactored classes and functions are moved. Also note that the interface of the new CV iterators are different from that of this module. This module will be removed in 0.20.\n",
      "  \"This module will be removed in 0.20.\", DeprecationWarning)\n"
     ]
    }
   ],
   "source": [
    "from __future__ import print_function\n",
    "import tensorflow\n",
    "import datetime\n",
    "import keras\n",
    "import pandas as pd\n",
    "import os\n",
    "import numpy as np\n",
    "import matplotlib.pyplot as plt\n",
    "from keras.datasets import mnist\n",
    "from keras.models import Sequential\n",
    "from keras.layers import Dense, Dropout, Activation, Flatten\n",
    "from keras.layers import Conv2D, MaxPooling2D\n",
    "from keras.callbacks import ModelCheckpoint\n",
    "from keras import backend as K\n",
    "from PIL import Image\n",
    "from sklearn.utils import shuffle\n",
    "from sklearn.cross_validation import train_test_split\n",
    "%matplotlib inline\n"
   ]
  },
  {
   "cell_type": "code",
   "execution_count": 2,
   "metadata": {
    "collapsed": true
   },
   "outputs": [],
   "source": [
    "################## set up some variables #################\n",
    "#dir_path = \"/Users/huynh/Desktop/256/ut-zap50k-images\"\n",
    "#resize_path = 'resize_img'\n",
    "im = []\n",
    "\n",
    "# set some parameters\n",
    "batch_size = 300\n",
    "num_classes = 7\n",
    "epochs = 5\n",
    "\n",
    "# set some more parameters\n",
    "img_rows, img_cols = 50, 50\n",
    "filters = 32\n",
    "pool_size = 2\n",
    "kernel_size = 5\n",
    "img_channels = 1\n",
    "\n",
    "#used to help some of the timing functions\n",
    "now = datetime.datetime.now\n"
   ]
  },
  {
   "cell_type": "code",
   "execution_count": 3,
   "metadata": {
    "collapsed": true
   },
   "outputs": [],
   "source": [
    "# get the path to all pictures in im list. Comment out cuz we got it\n",
    "#def get_image_paths(path, im):\n",
    "#    listing = os.listdir(path)\n",
    "#    count = 0\n",
    "#    for item in listing:\n",
    "\n",
    "#        if item == '.DS_Store':\n",
    "#            continue\n",
    "#        else:\n",
    "#            if '.jpg' in listing[0]:\n",
    "#                if count == 0:\n",
    "#                    im += [path + '/' + i for i in listing]\n",
    "#                    count += 1\n",
    "#            else:         \n",
    "#                get_image_paths(path + '/' + item, im)\n",
    "\n",
    "#get_image_paths(dir_path, im)"
   ]
  },
  {
   "cell_type": "code",
   "execution_count": 5,
   "metadata": {
    "collapsed": true
   },
   "outputs": [],
   "source": [
    "# create resize_images. Comment out because we got it\n",
    "#for path in imlist:\n",
    "#    temp = Image.open(path)\n",
    "#    temp = temp.resize((img_rows,img_cols))\n",
    "#    temp = temp.convert('L')\n",
    "#    fileName = path.split('/')[-1]\n",
    "#    tempArr = fileName.split('-')\n",
    "#    temp.save('/home/u6975/resize_img/' + tempArr[0] + '-' + tempArr[1], \"JPEG\")"
   ]
  },
  {
   "cell_type": "code",
   "execution_count": 3,
   "metadata": {
    "collapsed": true
   },
   "outputs": [],
   "source": [
    "################ function to train the model ##################\n",
    "def train_model(model, x_train, x_test, y_train, y_test, num_classes, epochs, featureName):\n",
    "    x_train = x_train.reshape(x_train.shape[0], img_rows, img_cols,1)\n",
    "    x_test = x_test.reshape(x_test.shape[0], img_rows, img_cols,1)\n",
    "    \n",
    "    x_train = x_train.astype('float32')\n",
    "    x_test = x_test.astype('float32')\n",
    "    x_train /= 255\n",
    "    x_test /= 255\n",
    "    print('x_train shape:', x_train.shape)\n",
    "    print(x_train.shape[0], 'train samples')\n",
    "    print(x_test.shape[0], 'test samples')\n",
    "\n",
    "    # convert class vectors to binary class matrices\n",
    "    y_train = keras.utils.to_categorical(y_train, num_classes)\n",
    "    y_test = keras.utils.to_categorical(y_test, num_classes)\n",
    "\n",
    "    model.compile(loss='categorical_crossentropy',\n",
    "                  optimizer='adadelta',\n",
    "                  metrics=['accuracy'])\n",
    "\n",
    "    t = now()\n",
    "    # checkpoint\n",
    "    if featureName == 'Category':\n",
    "        filepath=\"/home/u6975/models/\" + featureName + \".best.hdf5\"\n",
    "    elif featureName == 'Gender':\n",
    "        filepath=\"/home/u6975/models/\" + featureName + \".best.hdf5\"\n",
    "    elif featureName == 'SubCategory':\n",
    "        filepath=\"/home/u6975/models/\" + featureName + \".best.hdf5\"\n",
    "    elif featureName == 'HeelHeight':\n",
    "        filepath=\"/home/u6975/models/\" + featureName + \".best.hdf5\"\n",
    "    elif featureName == 'Material':\n",
    "        filepath=\"/home/u6975/models/\" + featureName + \".best.hdf5\"\n",
    "        \n",
    "    checkpoint = ModelCheckpoint(filepath, monitor='val_acc', verbose=1, save_best_only=True, mode='max')\n",
    "    callbacks_list = [checkpoint]\n",
    "\n",
    "    model.fit(x_train, y_train,\n",
    "              batch_size=batch_size,\n",
    "              epochs=epochs,\n",
    "              callbacks=callbacks_list,\n",
    "              verbose=0,\n",
    "              validation_data=(x_test, y_test))\n",
    "    #print('Training time: %s' % (now() - t))\n",
    "\n",
    "    score = model.evaluate(x_test, y_test, verbose=0)\n",
    "    print('Test score:', score[0])\n",
    "    print('Test accuracy:', score[1])"
   ]
  },
  {
   "cell_type": "code",
   "execution_count": 33,
   "metadata": {
    "collapsed": true
   },
   "outputs": [],
   "source": [
    "def get_model(num_classes):\n",
    "    ################ feature reducing layer ##############\n",
    "    feature_layers = [\n",
    "        Conv2D(filters, kernel_size,\n",
    "               padding='valid',\n",
    "               input_shape=(img_rows, img_cols,1)),\n",
    "        Activation('relu'),\n",
    "        Conv2D(filters, kernel_size),\n",
    "        Activation('relu'),\n",
    "        MaxPooling2D(pool_size=pool_size),\n",
    "        Dropout(0.25),\n",
    "        Flatten(),\n",
    "    ]\n",
    "\n",
    "    ############ classification layer ############\n",
    "    classification_layers = [\n",
    "        Dense(128),\n",
    "        Activation('relu'),\n",
    "        Dropout(0.5),\n",
    "        Dense(num_classes),\n",
    "        Activation('softmax')\n",
    "    ]\n",
    "\n",
    "    # We create our model by combining the two sets of layers as follows\n",
    "    model = Sequential(feature_layers + classification_layers)\n",
    "    return model"
   ]
  },
  {
   "cell_type": "code",
   "execution_count": 5,
   "metadata": {
    "collapsed": true
   },
   "outputs": [],
   "source": [
    "################# Needed function ##############\n",
    "# filter df to the needed cols and modify the new df CID col\n",
    "def get_df(filterString):\n",
    "    df = pd.read_csv('meta-data-bin.csv')\n",
    "    df1 = df.filter(regex='CID').join(df.filter(regex=filterString))\n",
    "\n",
    "    for x in range(50025):\n",
    "        df1.iloc[[x],[0]] = '/home/u6975/resize_img/' + df1.iloc[[x],[0]] + '.jpg'\n",
    "    return df1\n",
    "\n",
    "# join table and drop NaN\n",
    "def join_drop(df, feature):\n",
    "    df1 = pd.read_csv('meta-data.csv')\n",
    "    df1 = df1.drop('CID', 1)\n",
    "    df2 = df1.join(df)\n",
    "    df2 = df2.dropna(subset=[feature])\n",
    "    df2 = df2.filter(regex='CID').join(df.filter(regex=feature))\n",
    "    df2 = df2[~df2['CID'].isin(['/home/u6975/resize_img/8029595-574.jpg'])]\n",
    "    return df2\n",
    "\n",
    "# make a matrix for flatten img\n",
    "def make_matrix(df):    \n",
    "    imlist1 = df['CID'].values.tolist()\n",
    "    immatrix = np.array([np.array(Image.open(im2)).flatten() for im2 in imlist1])\n",
    "    immatrix.astype(float)\n",
    "    return immatrix\n",
    "\n",
    "# make labels list\n",
    "def make_label(df):\n",
    "    temp = len(df.index)\n",
    "    label1 = np.ones((temp,),dtype = int)\n",
    "    for x in range(temp):\n",
    "        for t in range(df.shape[1]):\n",
    "            if df.get_value(x, t, takeable=True) == 1:\n",
    "                label1[x] = t - 1\n",
    "                break\n",
    "    return label1"
   ]
  },
  {
   "cell_type": "code",
   "execution_count": 6,
   "metadata": {
    "collapsed": true
   },
   "outputs": [],
   "source": [
    "############ This part is for Gender ###############\n",
    "# Men\n",
    "# Women\n",
    "# Boy\n",
    "# Girl\n",
    "\n",
    "# init some variables\n",
    "feature = 'Gender'\n",
    "num_classes = 4\n",
    "epochs = 5\n",
    "\n",
    "# prepare data from dataset\n",
    "df1 = get_df(feature)\n",
    "df1 = join_drop(df1, feature)\n",
    "\n",
    "# format them into expected data structure\n",
    "new_matrix = make_matrix(df1)\n",
    "new_label = make_label(df1)\n",
    "new_model = get_model(num_classes)\n",
    "\n",
    "# prepare data for training\n",
    "data,Label = shuffle(new_matrix, new_label, random_state=2)\n",
    "train_data = [data,Label]\n",
    "(x, y) = (train_data[0], train_data[1])\n",
    "x_train, x_test, y_train, y_test = train_test_split(x, y, test_size = 0.2, random_state = 4)"
   ]
  },
  {
   "cell_type": "code",
   "execution_count": 9,
   "metadata": {},
   "outputs": [
    {
     "name": "stdout",
     "output_type": "stream",
     "text": [
      "_________________________________________________________________\n",
      "Layer (type)                 Output Shape              Param #   \n",
      "=================================================================\n",
      "conv2d_3 (Conv2D)            (None, 46, 46, 32)        832       \n",
      "_________________________________________________________________\n",
      "activation_5 (Activation)    (None, 46, 46, 32)        0         \n",
      "_________________________________________________________________\n",
      "conv2d_4 (Conv2D)            (None, 42, 42, 32)        25632     \n",
      "_________________________________________________________________\n",
      "activation_6 (Activation)    (None, 42, 42, 32)        0         \n",
      "_________________________________________________________________\n",
      "max_pooling2d_2 (MaxPooling2 (None, 21, 21, 32)        0         \n",
      "_________________________________________________________________\n",
      "dropout_3 (Dropout)          (None, 21, 21, 32)        0         \n",
      "_________________________________________________________________\n",
      "flatten_2 (Flatten)          (None, 14112)             0         \n",
      "_________________________________________________________________\n",
      "dense_3 (Dense)              (None, 128)               1806464   \n",
      "_________________________________________________________________\n",
      "activation_7 (Activation)    (None, 128)               0         \n",
      "_________________________________________________________________\n",
      "dropout_4 (Dropout)          (None, 128)               0         \n",
      "_________________________________________________________________\n",
      "dense_4 (Dense)              (None, 4)                 516       \n",
      "_________________________________________________________________\n",
      "activation_8 (Activation)    (None, 4)                 0         \n",
      "=================================================================\n",
      "Total params: 1,833,444\n",
      "Trainable params: 1,833,444\n",
      "Non-trainable params: 0\n",
      "_________________________________________________________________\n",
      "x_train shape: (40014, 50, 50, 1)\n",
      "40014 train samples\n",
      "10004 test samples\n",
      "Epoch 00000: val_acc improved from -inf to 0.62975, saving model to /home/u6975/models/Gender.best.hdf5\n",
      "Epoch 00001: val_acc improved from 0.62975 to 0.67543, saving model to /home/u6975/models/Gender.best.hdf5\n",
      "Epoch 00002: val_acc improved from 0.67543 to 0.67593, saving model to /home/u6975/models/Gender.best.hdf5\n",
      "Epoch 00003: val_acc improved from 0.67593 to 0.71441, saving model to /home/u6975/models/Gender.best.hdf5\n",
      "Epoch 00004: val_acc improved from 0.71441 to 0.71631, saving model to /home/u6975/models/Gender.best.hdf5\n",
      "Test score: 0.699081667206\n",
      "Test accuracy: 0.716313474634\n"
     ]
    }
   ],
   "source": [
    "# train it\n",
    "train_model(new_model, x_train, x_test, y_train, y_test, num_classes, epochs, feature)"
   ]
  },
  {
   "cell_type": "code",
   "execution_count": null,
   "metadata": {
    "collapsed": true
   },
   "outputs": [],
   "source": [
    "############ This part is for SubCategory ###############\n",
    "# Oxfords\n",
    "# Mid.Calf\n",
    "# Heel\n",
    "# Ankle\n",
    "# Boot\n",
    "# Loafers\n",
    "# Slipper.Flats\n",
    "# Boat.Shoes\n",
    "# Flat\n",
    "# Clogs.and.Mules\n",
    "# Flats\n",
    "# Sneakers.and.Athletic.Shoes\n",
    "# Slipper.Heels\n",
    "# Heels\n",
    "# Athletic\n",
    "# Prewalker\n",
    "# Knee.High\n",
    "# Prewalker.Boots\n",
    "# Crib.Shoes\n",
    "# Firstwalker\n",
    "# Over.the.Knee\n",
    "\n",
    "# init some variables\n",
    "feature = 'SubCategory'\n",
    "num_classes = 21\n",
    "epochs = 5\n",
    "\n",
    "# prepare data from dataset\n",
    "df1 = get_df(feature)\n",
    "df1 = join_drop(df1, feature)\n",
    "\n",
    "# format them into expected data structure\n",
    "new_matrix = make_matrix(df1)\n",
    "new_label = make_label(df1)\n",
    "new_model = get_model(num_classes)\n",
    "\n",
    "# prepare data for training\n",
    "data,Label = shuffle(new_matrix, new_label, random_state=2)\n",
    "train_data = [data,Label]\n",
    "(x, y) = (train_data[0], train_data[1])\n",
    "x_train, x_test, y_train, y_test = train_test_split(x, y, test_size = 0.2, random_state = 4)"
   ]
  },
  {
   "cell_type": "code",
   "execution_count": 12,
   "metadata": {},
   "outputs": [
    {
     "name": "stdout",
     "output_type": "stream",
     "text": [
      "x_train shape: (40019, 50, 50, 1)\n",
      "40019 train samples\n",
      "10005 test samples\n",
      "Epoch 00000: val_acc improved from -inf to 0.69075, saving model to /home/u6975/models/SubCategory.best.hdf5\n",
      "Epoch 00001: val_acc improved from 0.69075 to 0.73023, saving model to /home/u6975/models/SubCategory.best.hdf5\n",
      "Epoch 00002: val_acc improved from 0.73023 to 0.74513, saving model to /home/u6975/models/SubCategory.best.hdf5\n",
      "Epoch 00003: val_acc improved from 0.74513 to 0.77491, saving model to /home/u6975/models/SubCategory.best.hdf5\n",
      "Epoch 00004: val_acc did not improve\n",
      "Test score: 0.684641489489\n",
      "Test accuracy: 0.771214392833\n"
     ]
    }
   ],
   "source": [
    "# train it\n",
    "train_model(new_model, x_train, x_test, y_train, y_test, num_classes, epochs, feature)"
   ]
  },
  {
   "cell_type": "code",
   "execution_count": 13,
   "metadata": {},
   "outputs": [
    {
     "name": "stdout",
     "output_type": "stream",
     "text": [
      "_________________________________________________________________\n",
      "Layer (type)                 Output Shape              Param #   \n",
      "=================================================================\n",
      "conv2d_7 (Conv2D)            (None, 46, 46, 32)        832       \n",
      "_________________________________________________________________\n",
      "activation_13 (Activation)   (None, 46, 46, 32)        0         \n",
      "_________________________________________________________________\n",
      "conv2d_8 (Conv2D)            (None, 42, 42, 32)        25632     \n",
      "_________________________________________________________________\n",
      "activation_14 (Activation)   (None, 42, 42, 32)        0         \n",
      "_________________________________________________________________\n",
      "max_pooling2d_4 (MaxPooling2 (None, 21, 21, 32)        0         \n",
      "_________________________________________________________________\n",
      "dropout_7 (Dropout)          (None, 21, 21, 32)        0         \n",
      "_________________________________________________________________\n",
      "flatten_4 (Flatten)          (None, 14112)             0         \n",
      "_________________________________________________________________\n",
      "dense_7 (Dense)              (None, 128)               1806464   \n",
      "_________________________________________________________________\n",
      "activation_15 (Activation)   (None, 128)               0         \n",
      "_________________________________________________________________\n",
      "dropout_8 (Dropout)          (None, 128)               0         \n",
      "_________________________________________________________________\n",
      "dense_8 (Dense)              (None, 7)                 903       \n",
      "_________________________________________________________________\n",
      "activation_16 (Activation)   (None, 7)                 0         \n",
      "=================================================================\n",
      "Total params: 1,833,831\n",
      "Trainable params: 1,833,831\n",
      "Non-trainable params: 0\n",
      "_________________________________________________________________\n"
     ]
    }
   ],
   "source": [
    "############ This part is for HeelHeight ###############\n",
    "# 1in...1.3.4in, \n",
    "# 2in...2.3.4in, \n",
    "# Under.1in,\n",
    "# Flat,\n",
    "# 4in...4.3.4in,\n",
    "# 3in...3.3.4in,\n",
    "# 5in...over\n",
    "\n",
    "# init some variables\n",
    "feature = 'HeelHeight'\n",
    "num_classes = 7\n",
    "epochs = 5\n",
    "\n",
    "# prepare data from dataset\n",
    "df1 = get_df(feature)\n",
    "df1 = join_drop(df1, feature)\n",
    "\n",
    "# format them into expected data structure\n",
    "new_matrix = make_matrix(df1)\n",
    "new_label = make_label(df1)\n",
    "new_model = get_model(num_classes)\n",
    "\n",
    "# prepare data for training\n",
    "data,Label = shuffle(new_matrix, new_label, random_state=2)\n",
    "train_data = [data,Label]\n",
    "(x, y) = (train_data[0], train_data[1])\n",
    "x_train, x_test, y_train, y_test = train_test_split(x, y, test_size = 0.2, random_state = 4)"
   ]
  },
  {
   "cell_type": "code",
   "execution_count": 14,
   "metadata": {},
   "outputs": [
    {
     "name": "stdout",
     "output_type": "stream",
     "text": [
      "x_train shape: (23974, 50, 50, 1)\n",
      "23974 train samples\n",
      "5994 test samples\n",
      "Epoch 00000: val_acc improved from -inf to 0.56156, saving model to /home/u6975/models/HeelHeight.best.hdf5\n",
      "Epoch 00001: val_acc improved from 0.56156 to 0.61228, saving model to /home/u6975/models/HeelHeight.best.hdf5\n",
      "Epoch 00002: val_acc improved from 0.61228 to 0.62029, saving model to /home/u6975/models/HeelHeight.best.hdf5\n",
      "Epoch 00003: val_acc improved from 0.62029 to 0.63697, saving model to /home/u6975/models/HeelHeight.best.hdf5\n",
      "Epoch 00004: val_acc improved from 0.63697 to 0.65616, saving model to /home/u6975/models/HeelHeight.best.hdf5\n",
      "Test score: 0.874347035154\n",
      "Test accuracy: 0.656156156176\n"
     ]
    }
   ],
   "source": [
    "# train it\n",
    "train_model(new_model, x_train, x_test, y_train, y_test, num_classes, epochs, feature)"
   ]
  },
  {
   "cell_type": "code",
   "execution_count": 6,
   "metadata": {},
   "outputs": [
    {
     "name": "stdout",
     "output_type": "stream",
     "text": [
      "_________________________________________________________________\n",
      "Layer (type)                 Output Shape              Param #   \n",
      "=================================================================\n",
      "conv2d_1 (Conv2D)            (None, 46, 46, 32)        832       \n",
      "_________________________________________________________________\n",
      "activation_1 (Activation)    (None, 46, 46, 32)        0         \n",
      "_________________________________________________________________\n",
      "conv2d_2 (Conv2D)            (None, 42, 42, 32)        25632     \n",
      "_________________________________________________________________\n",
      "activation_2 (Activation)    (None, 42, 42, 32)        0         \n",
      "_________________________________________________________________\n",
      "max_pooling2d_1 (MaxPooling2 (None, 21, 21, 32)        0         \n",
      "_________________________________________________________________\n",
      "dropout_1 (Dropout)          (None, 21, 21, 32)        0         \n",
      "_________________________________________________________________\n",
      "flatten_1 (Flatten)          (None, 14112)             0         \n",
      "_________________________________________________________________\n",
      "dense_1 (Dense)              (None, 128)               1806464   \n",
      "_________________________________________________________________\n",
      "activation_3 (Activation)    (None, 128)               0         \n",
      "_________________________________________________________________\n",
      "dropout_2 (Dropout)          (None, 128)               0         \n",
      "_________________________________________________________________\n",
      "dense_2 (Dense)              (None, 4)                 516       \n",
      "_________________________________________________________________\n",
      "activation_4 (Activation)    (None, 4)                 0         \n",
      "=================================================================\n",
      "Total params: 1,833,444\n",
      "Trainable params: 1,833,444\n",
      "Non-trainable params: 0\n",
      "_________________________________________________________________\n"
     ]
    }
   ],
   "source": [
    "############ This part is for Category ###############\n",
    "# Shoes\n",
    "# Boots\n",
    "# Sandals\n",
    "# Slippers\n",
    "\n",
    "# init some variables\n",
    "feature = 'Category'\n",
    "num_classes = 4\n",
    "epochs = 5\n",
    "\n",
    "# prepare data from dataset\n",
    "df1 = get_df(feature)\n",
    "df1 = join_drop(df1, feature)\n",
    "\n",
    "# format them into expected data structure\n",
    "new_matrix = make_matrix(df1)\n",
    "new_label = make_label(df1)\n",
    "new_model = get_model(num_classes)\n",
    "\n",
    "# prepare data for training\n",
    "data,Label = shuffle(new_matrix, new_label, random_state=2)\n",
    "train_data = [data,Label]\n",
    "(x, y) = (train_data[0], train_data[1])\n",
    "x_train, x_test, y_train, y_test = train_test_split(x, y, test_size = 0.2, random_state = 4)"
   ]
  },
  {
   "cell_type": "code",
   "execution_count": 7,
   "metadata": {},
   "outputs": [
    {
     "name": "stdout",
     "output_type": "stream",
     "text": [
      "x_train shape: (40019, 50, 50, 1)\n",
      "40019 train samples\n",
      "10005 test samples\n",
      "Epoch 00000: val_acc improved from -inf to 0.83948, saving model to /home/u6975/models/Category.best.hdf5\n",
      "Epoch 00001: val_acc improved from 0.83948 to 0.90035, saving model to /home/u6975/models/Category.best.hdf5\n",
      "Epoch 00002: val_acc improved from 0.90035 to 0.90905, saving model to /home/u6975/models/Category.best.hdf5\n",
      "Epoch 00003: val_acc did not improve\n",
      "Epoch 00004: val_acc improved from 0.90905 to 0.91824, saving model to /home/u6975/models/Category.best.hdf5\n",
      "Test score: 0.234385060335\n",
      "Test accuracy: 0.918240879584\n"
     ]
    }
   ],
   "source": [
    "# train it\n",
    "train_model(new_model, x_train, x_test, y_train, y_test, num_classes, epochs, feature)"
   ]
  },
  {
   "cell_type": "code",
   "execution_count": 66,
   "metadata": {},
   "outputs": [],
   "source": [
    "def test_one(num_classes, modelPath, testImagePath):\n",
    "    test_model = get_model(num_classes)\n",
    "\n",
    "    # load weights\n",
    "    test_model.load_weights(modelPath)\n",
    "    # Compile model (required to make predictions)\n",
    "    test_model.compile(loss='categorical_crossentropy', optimizer='adadelta', metrics=['accuracy'])\n",
    "\n",
    "    # this block is for a example classification\n",
    "    numArr = Image.open(testImagePath)\n",
    "    numArr = numArr.resize((img_rows,img_cols))\n",
    "    numArr = numArr.convert('L')\n",
    "    plt.imshow(numArr)\n",
    "\n",
    "    xArr=[]\n",
    "    xArr.append(numArr)\n",
    "\n",
    "    numArr1 = np.array([np.array(tt).flatten() for tt in xArr])\n",
    "    numArr1 = numArr1.astype(float)\n",
    "    numArr1 /= 255\n",
    "    numArr1 = numArr1.reshape(numArr1.shape[0], img_rows, img_cols, 1)\n",
    "\n",
    "    somePredict = test_model.predict_classes(numArr1)\n",
    "    somePredict = somePredict.tolist()\n",
    "    endList = [0] * num_classes\n",
    "    endList[somePredict[0]] = 1 \n",
    "    return endList\n",
    "\n",
    "def test_all(testImagePath):\n",
    "    category = test_one(4, '/home/u6975/models/Category.best.hdf5', testImagePath)\n",
    "    heelHeight = test_one(7, '/home/u6975/models/HeelHeight.best.hdf5', testImagePath)\n",
    "    subCategory = test_one(21, '/home/u6975/models/SubCategory.best.hdf5', testImagePath)\n",
    "    gender = test_one(4, '/home/u6975/models/Gender.best.hdf5', testImagePath)\n",
    "    result = gender + category + heelHeight + subCategory\n",
    "    return result"
   ]
  },
  {
   "cell_type": "code",
   "execution_count": 73,
   "metadata": {},
   "outputs": [
    {
     "name": "stdout",
     "output_type": "stream",
     "text": [
      "1/1 [==============================] - 0s\n",
      "1/1 [==============================] - 0s\n",
      "1/1 [==============================] - 0s\n",
      "1/1 [==============================] - 0s\n",
      "[1, 0, 0, 0, 1, 0, 0, 0, 0, 0, 0, 1, 0, 0, 0, 0, 0, 0, 0, 0, 0, 0, 0, 0, 0, 0, 1, 0, 0, 0, 0, 0, 0, 0, 0, 0]\n",
      "['Gender.Men', 'Gender.Women', 'Gender.Boys', 'Gender.Girls', 'Category.Shoes', 'Category.Boots', 'Category.Sandals', 'Category.Slippers', 'HeelHeight.1in...1.3.4in', 'HeelHeight.2in...2.3.4in', 'HeelHeight.Under.1in', 'HeelHeight.Flat', 'HeelHeight.4in...4.3.4in', 'HeelHeight.3in...3.3.4in', 'HeelHeight.5in...over', 'SubCategory.Oxfords', 'SubCategory.Mid.Calf', 'SubCategory.Heel', 'SubCategory.Ankle', 'SubCategory.Boot', 'SubCategory.Loafers', 'SubCategory.Slipper.Flats', 'SubCategory.Boat.Shoes', 'SubCategory.Flat', 'SubCategory.Clogs.and.Mules', 'SubCategory.Flats', 'SubCategory.Sneakers.and.Athletic.Shoes', 'SubCategory.Slipper.Heels', 'SubCategory.Heels', 'SubCategory.Athletic', 'SubCategory.Prewalker', 'SubCategory.Knee.High', 'SubCategory.Prewalker.Boots', 'SubCategory.Crib.Shoes', 'SubCategory.Firstwalker', 'SubCategory.Over.the.Knee']\n",
      "Gender.Men\n",
      "Category.Shoes\n",
      "HeelHeight.Flat\n",
      "SubCategory.Sneakers.and.Athletic.Shoes\n"
     ]
    },
    {
     "data": {
      "image/png": "[encoded data removed]",
      "text/plain": [
       "<matplotlib.figure.Figure at 0x2b9810289588>"
      ]
     },
     "metadata": {},
     "output_type": "display_data"
    }
   ],
   "source": [
    "result = test_all('testImg1.jpg')\n",
    "print(result)\n",
    "# get all needed headers \n",
    "df = pd.read_csv('meta-data-bin.csv')\n",
    "df1 = df.filter(regex='Category|HeelHeight|Gender')\n",
    "headerList = df1.columns.values.tolist()\n",
    "headerList = headerList[32:] + headerList[0:4] + headerList[25:32] + headerList[4:25]\n",
    "\n",
    "# print the classifications of the image\n",
    "for index, value in enumerate(result):\n",
    "    if value == 1:\n",
    "        print(headerList[index])"
   ]
  },
  {
   "cell_type": "code",
   "execution_count": null,
   "metadata": {},
   "outputs": [],
   "source": []
  },
  {
   "cell_type": "code",
   "execution_count": null,
   "metadata": {
    "collapsed": true
   },
   "outputs": [],
   "source": []
  }
 ],
 "metadata": {
  "kernelspec": {
   "display_name": "Python 3",
   "language": "python",
   "name": "python3"
  },
  "language_info": {
   "codemirror_mode": {
    "name": "ipython",
    "version": 3
   },
   "file_extension": ".py",
   "mimetype": "text/x-python",
   "name": "python",
   "nbconvert_exporter": "python",
   "pygments_lexer": "ipython3",
   "version": "3.6.3"
  }
 },
 "nbformat": 4,
 "nbformat_minor": 1
}
